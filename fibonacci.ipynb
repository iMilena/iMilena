{
  "nbformat": 4,
  "nbformat_minor": 0,
  "metadata": {
    "colab": {
      "name": "fibonacci",
      "provenance": [],
      "authorship_tag": "ABX9TyNFN+pDuSf928libPHlWkrC",
      "include_colab_link": true
    },
    "kernelspec": {
      "name": "python3",
      "display_name": "Python 3"
    },
    "language_info": {
      "name": "python"
    }
  },
  "cells": [
    {
      "cell_type": "markdown",
      "metadata": {
        "id": "view-in-github",
        "colab_type": "text"
      },
      "source": [
        "<a href=\"https://colab.research.google.com/github/iMilena/iMilena/blob/main/fibonacci.ipynb\" target=\"_parent\"><img src=\"https://colab.research.google.com/assets/colab-badge.svg\" alt=\"Open In Colab\"/></a>"
      ]
    },
    {
      "cell_type": "code",
      "execution_count": null,
      "metadata": {
        "id": "P7QX0cXxhMtb"
      },
      "outputs": [],
      "source": [
        "n=int(input('Termo que deseja encontrar:'))\n",
        "ultimo=1;\n",
        "penultimo=1;\n",
        "\n",
        "if(n==1) or (n==2):\n",
        "  print(\"1\");\n",
        "else:\n",
        "  count=3;\n",
        "while count <= n:\n",
        "  termo=ultimo+penultimo;\n",
        "  penultimo=ultimo;\n",
        "  ultimo=termo;\n",
        "  count+=1;\n",
        "  StopIteration\n",
        "print(termo);"
      ]
    }
  ]
}